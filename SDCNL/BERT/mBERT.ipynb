{
 "cells": [
  {
   "cell_type": "markdown",
   "metadata": {
    "id": "uaqJ7eVlBv09"
   },
   "source": [
    "#  XAI BERT- Suicide Detection\n",
    "**Autora:** Lais Carvalho Coutinho\n",
    "\n",
    "**Orientador:** Adonias Caetano de Oliveira\n",
    "\n",
    "**Instituição:** IFCE\n",
    "\n",
    "**Dataset disponível em:**\n"
   ]
  },
  {
   "cell_type": "markdown",
   "metadata": {
    "id": "4c3ex9p6B6a2"
   },
   "source": [
    "## Instalação de Pacotes"
   ]
  },
  {
   "cell_type": "code",
   "execution_count": 2,
   "metadata": {
    "colab": {
     "base_uri": "https://localhost:8080/"
    },
    "executionInfo": {
     "elapsed": 2833,
     "status": "ok",
     "timestamp": 1749144214087,
     "user": {
      "displayName": "Laís Carvalho Coutinho",
      "userId": "02390242036631741944"
     },
     "user_tz": 180
    },
    "id": "Y3-CiHxmXE9_",
    "outputId": "05ba8bef-6877-4bb3-e4d6-4d3d20768a8f"
   },
   "outputs": [
    {
     "name": "stdout",
     "output_type": "stream",
     "text": [
      "Collecting Unidecode\n",
      "  Downloading Unidecode-1.4.0-py3-none-any.whl.metadata (13 kB)\n",
      "Requirement already satisfied: transformers in /usr/local/lib/python3.11/dist-packages (4.52.3)\n",
      "Requirement already satisfied: filelock in /usr/local/lib/python3.11/dist-packages (from transformers) (3.18.0)\n",
      "Requirement already satisfied: huggingface-hub<1.0,>=0.30.0 in /usr/local/lib/python3.11/dist-packages (from transformers) (0.32.2)\n",
      "Requirement already satisfied: numpy>=1.17 in /usr/local/lib/python3.11/dist-packages (from transformers) (2.0.2)\n",
      "Requirement already satisfied: packaging>=20.0 in /usr/local/lib/python3.11/dist-packages (from transformers) (24.2)\n",
      "Requirement already satisfied: pyyaml>=5.1 in /usr/local/lib/python3.11/dist-packages (from transformers) (6.0.2)\n",
      "Requirement already satisfied: regex!=2019.12.17 in /usr/local/lib/python3.11/dist-packages (from transformers) (2024.11.6)\n",
      "Requirement already satisfied: requests in /usr/local/lib/python3.11/dist-packages (from transformers) (2.32.3)\n",
      "Requirement already satisfied: tokenizers<0.22,>=0.21 in /usr/local/lib/python3.11/dist-packages (from transformers) (0.21.1)\n",
      "Requirement already satisfied: safetensors>=0.4.3 in /usr/local/lib/python3.11/dist-packages (from transformers) (0.5.3)\n",
      "Requirement already satisfied: tqdm>=4.27 in /usr/local/lib/python3.11/dist-packages (from transformers) (4.67.1)\n",
      "Requirement already satisfied: fsspec>=2023.5.0 in /usr/local/lib/python3.11/dist-packages (from huggingface-hub<1.0,>=0.30.0->transformers) (2025.3.2)\n",
      "Requirement already satisfied: typing-extensions>=3.7.4.3 in /usr/local/lib/python3.11/dist-packages (from huggingface-hub<1.0,>=0.30.0->transformers) (4.13.2)\n",
      "Requirement already satisfied: hf-xet<2.0.0,>=1.1.2 in /usr/local/lib/python3.11/dist-packages (from huggingface-hub<1.0,>=0.30.0->transformers) (1.1.2)\n",
      "Requirement already satisfied: charset-normalizer<4,>=2 in /usr/local/lib/python3.11/dist-packages (from requests->transformers) (3.4.2)\n",
      "Requirement already satisfied: idna<4,>=2.5 in /usr/local/lib/python3.11/dist-packages (from requests->transformers) (3.10)\n",
      "Requirement already satisfied: urllib3<3,>=1.21.1 in /usr/local/lib/python3.11/dist-packages (from requests->transformers) (2.4.0)\n",
      "Requirement already satisfied: certifi>=2017.4.17 in /usr/local/lib/python3.11/dist-packages (from requests->transformers) (2025.4.26)\n",
      "Downloading Unidecode-1.4.0-py3-none-any.whl (235 kB)\n",
      "\u001b[2K   \u001b[90m━━━━━━━━━━━━━━━━━━━━━━━━━━━━━━━━━━━━━━━━\u001b[0m \u001b[32m235.8/235.8 kB\u001b[0m \u001b[31m8.2 MB/s\u001b[0m eta \u001b[36m0:00:00\u001b[0m\n",
      "\u001b[?25hInstalling collected packages: Unidecode\n",
      "Successfully installed Unidecode-1.4.0\n"
     ]
    }
   ],
   "source": [
    "!pip install Unidecode transformers"
   ]
  },
  {
   "cell_type": "markdown",
   "metadata": {
    "id": "jhGy9D_7B9Z9"
   },
   "source": [
    "## Importação de Bibliotecas"
   ]
  },
  {
   "cell_type": "code",
   "execution_count": 3,
   "metadata": {
    "executionInfo": {
     "elapsed": 2,
     "status": "ok",
     "timestamp": 1749144214107,
     "user": {
      "displayName": "Laís Carvalho Coutinho",
      "userId": "02390242036631741944"
     },
     "user_tz": 180
    },
    "id": "irNhcn15X9Bs"
   },
   "outputs": [],
   "source": [
    "import warnings\n",
    "warnings.filterwarnings(\"ignore\")"
   ]
  },
  {
   "cell_type": "code",
   "execution_count": 4,
   "metadata": {
    "executionInfo": {
     "elapsed": 32509,
     "status": "ok",
     "timestamp": 1749144246617,
     "user": {
      "displayName": "Laís Carvalho Coutinho",
      "userId": "02390242036631741944"
     },
     "user_tz": 180
    },
    "id": "Qp3iYSc_X_iC"
   },
   "outputs": [],
   "source": [
    "#text preprocessing libraries\n",
    "\n",
    "import re\n",
    "import math\n",
    "import seaborn as sns\n",
    "import pandas as pd\n",
    "import numpy as np\n",
    "import matplotlib.pyplot as plt\n",
    "\n",
    "import nltk\n",
    "from nltk import sent_tokenize\n",
    "from nltk import word_tokenize\n",
    "from nltk.corpus import stopwords\n",
    "\n",
    "import torch\n",
    "from torch.utils.data import TensorDataset, DataLoader, RandomSampler, SequentialSampler\n",
    "from torch.optim import AdamW\n",
    "from torch.nn.utils import clip_grad_norm_\n",
    "\n",
    "from transformers import BertTokenizer, BertForSequenceClassification, get_linear_schedule_with_warmup\n",
    "from sklearn.model_selection import train_test_split\n",
    "from sklearn.metrics import classification_report, roc_curve, auc, ConfusionMatrixDisplay, confusion_matrix\n",
    "from scipy.special import expit\n",
    "from tqdm.notebook import tqdm\n",
    "\n",
    "# import seaborn as sns\n",
    "# from imblearn.under_sampling import RandomUnderSampler\n",
    "# from unidecode import unidecode\n",
    "# from string import punctuation\n",
    "# # from wordcloud import WordCloud\n",
    "# from lime.lime_text import LimeTextExplainer\n",
    "# from scipy.special import expit"
   ]
  },
  {
   "cell_type": "markdown",
   "metadata": {
    "id": "tppRsT1ZCHbZ"
   },
   "source": [
    "## Carregamento do Dataset"
   ]
  },
  {
   "cell_type": "code",
   "execution_count": null,
   "metadata": {
    "executionInfo": {
     "elapsed": 6,
     "status": "ok",
     "timestamp": 1749144246618,
     "user": {
      "displayName": "Laís Carvalho Coutinho",
      "userId": "02390242036631741944"
     },
     "user_tz": 180
    },
    "id": "z_LgvDKLkMc1"
   },
   "outputs": [],
   "source": [
    "link_train = 'link púbico do Google Drive de acesso ao CSV de treinamento'\n",
    "link_test = 'link púbico do Google Drive de acesso ao CSV de teste'\n",
    "\n",
    "file_id_link_train = link_train.split('/')[-2]\n",
    "file_id_link_test = link_test.split('/')[-2]\n",
    "\n",
    "read_link_train = 'https://drive.google.com/uc?id=' + file_id_link_train\n",
    "read_link_test = 'https://drive.google.com/uc?id=' + file_id_link_test\n",
    "\n",
    "train_dataset = pd.read_csv(read_link_train,  index_col=0)\n",
    "test_dataset = pd.read_csv(read_link_test,  index_col=0)"
   ]
  },
  {
   "cell_type": "code",
   "execution_count": 9,
   "metadata": {
    "colab": {
     "base_uri": "https://localhost:8080/"
    },
    "executionInfo": {
     "elapsed": 5,
     "status": "ok",
     "timestamp": 1749144539831,
     "user": {
      "displayName": "Laís Carvalho Coutinho",
      "userId": "02390242036631741944"
     },
     "user_tz": 180
    },
    "id": "dNDOsb5OgTpP",
    "outputId": "89291a3b-c618-4703-9ee0-5659bbc26f87"
   },
   "outputs": [
    {
     "name": "stdout",
     "output_type": "stream",
     "text": [
      "Index(['text', 'classification'], dtype='object')\n"
     ]
    }
   ],
   "source": [
    "print(test_dataset.columns)"
   ]
  },
  {
   "cell_type": "code",
   "execution_count": 10,
   "metadata": {
    "colab": {
     "base_uri": "https://localhost:8080/"
    },
    "executionInfo": {
     "elapsed": 6,
     "status": "ok",
     "timestamp": 1749144539839,
     "user": {
      "displayName": "Laís Carvalho Coutinho",
      "userId": "02390242036631741944"
     },
     "user_tz": 180
    },
    "id": "Z-hK3UNJNipS",
    "outputId": "ad49ca03-10f9-48ec-96cd-938ad6f7841a"
   },
   "outputs": [
    {
     "name": "stdout",
     "output_type": "stream",
     "text": [
      "classification\n",
      "1    930\n",
      "0    865\n",
      "Name: count, dtype: int64\n"
     ]
    }
   ],
   "source": [
    "print(train_dataset['classification'].value_counts())"
   ]
  },
  {
   "cell_type": "markdown",
   "metadata": {
    "id": "uUhcY-XYCcbp"
   },
   "source": [
    "## Divisão dos Dados em Conjuntos de Treinamento, Validação e Teste"
   ]
  },
  {
   "cell_type": "code",
   "execution_count": 11,
   "metadata": {
    "executionInfo": {
     "elapsed": 9,
     "status": "ok",
     "timestamp": 1749144539862,
     "user": {
      "displayName": "Laís Carvalho Coutinho",
      "userId": "02390242036631741944"
     },
     "user_tz": 180
    },
    "id": "VtnfmyswYQKr"
   },
   "outputs": [],
   "source": [
    "# Dividindo os dados de treino em treino e validação\n",
    "train_df, valid_df, train_label, valid_label = train_test_split(\n",
    "    train_dataset[['text']], train_dataset['classification'], test_size=0.20, random_state=42)\n",
    "\n",
    "# Dividindo os dados de teste (já definidos)\n",
    "test_df = test_dataset[['text']]\n",
    "test_label = test_dataset['classification']"
   ]
  },
  {
   "cell_type": "code",
   "execution_count": 12,
   "metadata": {
    "colab": {
     "base_uri": "https://localhost:8080/"
    },
    "executionInfo": {
     "elapsed": 58,
     "status": "ok",
     "timestamp": 1749144539922,
     "user": {
      "displayName": "Laís Carvalho Coutinho",
      "userId": "02390242036631741944"
     },
     "user_tz": 180
    },
    "id": "MeaKWi6qYV28",
    "outputId": "130e526d-e828-4d85-9512-48fedc6848bf"
   },
   "outputs": [
    {
     "name": "stdout",
     "output_type": "stream",
     "text": [
      "Conjunto de Treinamento:\n",
      "                                                   text\n",
      "1023  i have band concert today and i was excited it...\n",
      "1732  i hate myself because of one stupid mistake i ...\n",
      "1555  ive always felt suicidal most of my life and i...\n",
      "1640  i i cant imagine dying its not something that ...\n",
      "175   m in college homeless in college i feel so sad... \n",
      "\n",
      "Conjunto de Validação:\n",
      "                                                   text\n",
      "1234  every single night its been so hard just to ex...\n",
      "220   days ago i slit my wrists again i was feeling ...\n",
      "1516  ive been depressed quite while now and i just ...\n",
      "438                                           emptypost\n",
      "1268  sometimes i wonder if people that stay alive n... \n",
      "\n",
      "Conjunto de Teste:\n",
      "                                                text\n",
      "0  sometimes life can be too much we can often fe...\n",
      "1  i really am having hard time with life nothing...\n",
      "2  i guess you could say its to the point where i...\n",
      "3  ive been depressed and i seem to be getting in...\n",
      "4  i make this type of post like every weeks but ... \n",
      "\n"
     ]
    }
   ],
   "source": [
    "print(\"Conjunto de Treinamento:\")\n",
    "print(train_df.head(), \"\\n\")\n",
    "print(\"Conjunto de Validação:\")\n",
    "print(valid_df.head(), \"\\n\")\n",
    "print(\"Conjunto de Teste:\")\n",
    "print(test_df.head(), \"\\n\")"
   ]
  },
  {
   "cell_type": "code",
   "execution_count": 13,
   "metadata": {
    "executionInfo": {
     "elapsed": 16,
     "status": "ok",
     "timestamp": 1749144539923,
     "user": {
      "displayName": "Laís Carvalho Coutinho",
      "userId": "02390242036631741944"
     },
     "user_tz": 180
    },
    "id": "4YrjI43mhR2a"
   },
   "outputs": [],
   "source": [
    "# Garantir que todos os valores na coluna 'text' sejam strings\n",
    "train_df['text'] = train_df['text'].fillna('').astype(str)\n",
    "valid_df['text'] = valid_df['text'].fillna('').astype(str)\n",
    "test_df['text'] = test_df['text'].fillna('').astype(str)\n",
    "\n",
    "train_texts = train_df['text'].values.tolist()\n",
    "valid_texts = valid_df['text'].values.tolist()\n",
    "test_texts = test_df['text'].values.tolist()"
   ]
  },
  {
   "cell_type": "code",
   "execution_count": 14,
   "metadata": {
    "colab": {
     "base_uri": "https://localhost:8080/"
    },
    "executionInfo": {
     "elapsed": 16,
     "status": "ok",
     "timestamp": 1749144539924,
     "user": {
      "displayName": "Laís Carvalho Coutinho",
      "userId": "02390242036631741944"
     },
     "user_tz": 180
    },
    "id": "WZbDmQPoAriS",
    "outputId": "f802ca7d-2dad-4129-8c27-bda0a5f64624"
   },
   "outputs": [
    {
     "name": "stdout",
     "output_type": "stream",
     "text": [
      "Train: 1436 lines\n",
      "Validation: 359 lines\n",
      "Test: 100 lines\n"
     ]
    }
   ],
   "source": [
    "print(f\"Train: {len(train_df)} lines\")\n",
    "print(f\"Validation: {len(valid_df)} lines\")\n",
    "print(f\"Test: {len(test_df)} lines\")"
   ]
  },
  {
   "cell_type": "code",
   "execution_count": 15,
   "metadata": {
    "colab": {
     "base_uri": "https://localhost:8080/"
    },
    "executionInfo": {
     "elapsed": 11,
     "status": "ok",
     "timestamp": 1749144539924,
     "user": {
      "displayName": "Laís Carvalho Coutinho",
      "userId": "02390242036631741944"
     },
     "user_tz": 180
    },
    "id": "jd6J4GMUAZCM",
    "outputId": "7c2da1e7-5752-486b-9c15-51d05c2a6179"
   },
   "outputs": [
    {
     "data": {
      "text/plain": [
       "['non-suicide', 'suicide']"
      ]
     },
     "execution_count": 15,
     "metadata": {},
     "output_type": "execute_result"
    }
   ],
   "source": [
    "label_names = ['non-suicide', 'suicide']\n",
    "label_names"
   ]
  },
  {
   "cell_type": "markdown",
   "metadata": {
    "id": "OeP2uHqdCjHf"
   },
   "source": [
    "## Inicialização do Tokenizador e do Modelo"
   ]
  },
  {
   "cell_type": "code",
   "execution_count": 47,
   "metadata": {
    "colab": {
     "base_uri": "https://localhost:8080/"
    },
    "executionInfo": {
     "elapsed": 1486,
     "status": "ok",
     "timestamp": 1749146011714,
     "user": {
      "displayName": "Laís Carvalho Coutinho",
      "userId": "02390242036631741944"
     },
     "user_tz": 180
    },
    "id": "2Ti-RJsTbtBK",
    "outputId": "1ed9d3b2-edeb-41b4-8090-1c4d424ead9e"
   },
   "outputs": [
    {
     "data": {
      "text/plain": [
       "BertTokenizer(name_or_path='bert-base-multilingual-cased', vocab_size=119547, model_max_length=512, is_fast=False, padding_side='right', truncation_side='right', special_tokens={'unk_token': '[UNK]', 'sep_token': '[SEP]', 'pad_token': '[PAD]', 'cls_token': '[CLS]', 'mask_token': '[MASK]'}, clean_up_tokenization_spaces=True, added_tokens_decoder={\n",
       "\t0: AddedToken(\"[PAD]\", rstrip=False, lstrip=False, single_word=False, normalized=False, special=True),\n",
       "\t100: AddedToken(\"[UNK]\", rstrip=False, lstrip=False, single_word=False, normalized=False, special=True),\n",
       "\t101: AddedToken(\"[CLS]\", rstrip=False, lstrip=False, single_word=False, normalized=False, special=True),\n",
       "\t102: AddedToken(\"[SEP]\", rstrip=False, lstrip=False, single_word=False, normalized=False, special=True),\n",
       "\t103: AddedToken(\"[MASK]\", rstrip=False, lstrip=False, single_word=False, normalized=False, special=True),\n",
       "}\n",
       ")"
      ]
     },
     "execution_count": 47,
     "metadata": {},
     "output_type": "execute_result"
    }
   ],
   "source": [
    "PRETRAINED_LM = 'bert-base-multilingual-cased'\n",
    "tokenizer = BertTokenizer.from_pretrained(PRETRAINED_LM, do_lower_case=True)\n",
    "tokenizer"
   ]
  },
  {
   "cell_type": "markdown",
   "metadata": {
    "id": "BEdlzECHCnw4"
   },
   "source": [
    "## Definição de Funções Auxiliares"
   ]
  },
  {
   "cell_type": "code",
   "execution_count": 48,
   "metadata": {
    "executionInfo": {
     "elapsed": 3,
     "status": "ok",
     "timestamp": 1749146011716,
     "user": {
      "displayName": "Laís Carvalho Coutinho",
      "userId": "02390242036631741944"
     },
     "user_tz": 180
    },
    "id": "f0_7aAiBasNn"
   },
   "outputs": [],
   "source": [
    "def encode(docs):\n",
    "    '''\n",
    "    This function takes list of texts and returns input_ids and attention_mask of texts\n",
    "    '''\n",
    "    encoded_dict = tokenizer.batch_encode_plus(docs,\n",
    "                                               add_special_tokens=True,\n",
    "                                               max_length=128,\n",
    "                                               padding='max_length',\n",
    "                                               return_attention_mask=True,\n",
    "                                               truncation=True,\n",
    "                                               return_tensors='pt')\n",
    "    input_ids = encoded_dict['input_ids']\n",
    "    attention_masks = encoded_dict['attention_mask']\n",
    "    return input_ids, attention_masks"
   ]
  },
  {
   "cell_type": "markdown",
   "metadata": {
    "id": "ch3SSX5WCsBw"
   },
   "source": [
    "## Preparação dos dados para o treinamento do modelo"
   ]
  },
  {
   "cell_type": "code",
   "execution_count": 49,
   "metadata": {
    "colab": {
     "base_uri": "https://localhost:8080/",
     "height": 547
    },
    "executionInfo": {
     "elapsed": 4718,
     "status": "error",
     "timestamp": 1749146016436,
     "user": {
      "displayName": "Laís Carvalho Coutinho",
      "userId": "02390242036631741944"
     },
     "user_tz": 180
    },
    "id": "mEn5vxVQa34p",
    "outputId": "0e4a3421-b9e2-4e5c-a383-77cd271b2b08"
   },
   "outputs": [
    {
     "ename": "KeyError",
     "evalue": "'text'",
     "output_type": "error",
     "traceback": [
      "\u001b[0;31m---------------------------------------------------------------------------\u001b[0m",
      "\u001b[0;31mKeyError\u001b[0m                                  Traceback (most recent call last)",
      "\u001b[0;32m/usr/local/lib/python3.11/dist-packages/pandas/core/indexes/base.py\u001b[0m in \u001b[0;36mget_loc\u001b[0;34m(self, key)\u001b[0m\n\u001b[1;32m   3804\u001b[0m         \u001b[0;32mtry\u001b[0m\u001b[0;34m:\u001b[0m\u001b[0;34m\u001b[0m\u001b[0;34m\u001b[0m\u001b[0m\n\u001b[0;32m-> 3805\u001b[0;31m             \u001b[0;32mreturn\u001b[0m \u001b[0mself\u001b[0m\u001b[0;34m.\u001b[0m\u001b[0m_engine\u001b[0m\u001b[0;34m.\u001b[0m\u001b[0mget_loc\u001b[0m\u001b[0;34m(\u001b[0m\u001b[0mcasted_key\u001b[0m\u001b[0;34m)\u001b[0m\u001b[0;34m\u001b[0m\u001b[0;34m\u001b[0m\u001b[0m\n\u001b[0m\u001b[1;32m   3806\u001b[0m         \u001b[0;32mexcept\u001b[0m \u001b[0mKeyError\u001b[0m \u001b[0;32mas\u001b[0m \u001b[0merr\u001b[0m\u001b[0;34m:\u001b[0m\u001b[0;34m\u001b[0m\u001b[0;34m\u001b[0m\u001b[0m\n",
      "\u001b[0;32mindex.pyx\u001b[0m in \u001b[0;36mpandas._libs.index.IndexEngine.get_loc\u001b[0;34m()\u001b[0m\n",
      "\u001b[0;32mindex.pyx\u001b[0m in \u001b[0;36mpandas._libs.index.IndexEngine.get_loc\u001b[0;34m()\u001b[0m\n",
      "\u001b[0;32mpandas/_libs/hashtable_class_helper.pxi\u001b[0m in \u001b[0;36mpandas._libs.hashtable.PyObjectHashTable.get_item\u001b[0;34m()\u001b[0m\n",
      "\u001b[0;32mpandas/_libs/hashtable_class_helper.pxi\u001b[0m in \u001b[0;36mpandas._libs.hashtable.PyObjectHashTable.get_item\u001b[0;34m()\u001b[0m\n",
      "\u001b[0;31mKeyError\u001b[0m: 'text'",
      "\nThe above exception was the direct cause of the following exception:\n",
      "\u001b[0;31mKeyError\u001b[0m                                  Traceback (most recent call last)",
      "\u001b[0;32m<ipython-input-49-a049121c953b>\u001b[0m in \u001b[0;36m<cell line: 0>\u001b[0;34m()\u001b[0m\n\u001b[1;32m      1\u001b[0m \u001b[0mtrain_input_ids\u001b[0m\u001b[0;34m,\u001b[0m \u001b[0mtrain_att_masks\u001b[0m \u001b[0;34m=\u001b[0m \u001b[0mencode\u001b[0m\u001b[0;34m(\u001b[0m\u001b[0mtrain_df\u001b[0m\u001b[0;34m[\u001b[0m\u001b[0;34m'text'\u001b[0m\u001b[0;34m]\u001b[0m\u001b[0;34m.\u001b[0m\u001b[0mvalues\u001b[0m\u001b[0;34m.\u001b[0m\u001b[0mtolist\u001b[0m\u001b[0;34m(\u001b[0m\u001b[0;34m)\u001b[0m\u001b[0;34m)\u001b[0m\u001b[0;34m\u001b[0m\u001b[0;34m\u001b[0m\u001b[0m\n\u001b[1;32m      2\u001b[0m \u001b[0mvalid_input_ids\u001b[0m\u001b[0;34m,\u001b[0m \u001b[0mvalid_att_masks\u001b[0m \u001b[0;34m=\u001b[0m \u001b[0mencode\u001b[0m\u001b[0;34m(\u001b[0m\u001b[0mvalid_df\u001b[0m\u001b[0;34m[\u001b[0m\u001b[0;34m'text'\u001b[0m\u001b[0;34m]\u001b[0m\u001b[0;34m.\u001b[0m\u001b[0mvalues\u001b[0m\u001b[0;34m.\u001b[0m\u001b[0mtolist\u001b[0m\u001b[0;34m(\u001b[0m\u001b[0;34m)\u001b[0m\u001b[0;34m)\u001b[0m\u001b[0;34m\u001b[0m\u001b[0;34m\u001b[0m\u001b[0m\n\u001b[0;32m----> 3\u001b[0;31m \u001b[0mtest_input_ids\u001b[0m\u001b[0;34m,\u001b[0m \u001b[0mtest_att_masks\u001b[0m \u001b[0;34m=\u001b[0m \u001b[0mencode\u001b[0m\u001b[0;34m(\u001b[0m\u001b[0mtest_df\u001b[0m\u001b[0;34m[\u001b[0m\u001b[0;34m'text'\u001b[0m\u001b[0;34m]\u001b[0m\u001b[0;34m.\u001b[0m\u001b[0mvalues\u001b[0m\u001b[0;34m.\u001b[0m\u001b[0mtolist\u001b[0m\u001b[0;34m(\u001b[0m\u001b[0;34m)\u001b[0m\u001b[0;34m)\u001b[0m\u001b[0;34m\u001b[0m\u001b[0;34m\u001b[0m\u001b[0m\n\u001b[0m",
      "\u001b[0;32m/usr/local/lib/python3.11/dist-packages/pandas/core/frame.py\u001b[0m in \u001b[0;36m__getitem__\u001b[0;34m(self, key)\u001b[0m\n\u001b[1;32m   4100\u001b[0m             \u001b[0;32mif\u001b[0m \u001b[0mself\u001b[0m\u001b[0;34m.\u001b[0m\u001b[0mcolumns\u001b[0m\u001b[0;34m.\u001b[0m\u001b[0mnlevels\u001b[0m \u001b[0;34m>\u001b[0m \u001b[0;36m1\u001b[0m\u001b[0;34m:\u001b[0m\u001b[0;34m\u001b[0m\u001b[0;34m\u001b[0m\u001b[0m\n\u001b[1;32m   4101\u001b[0m                 \u001b[0;32mreturn\u001b[0m \u001b[0mself\u001b[0m\u001b[0;34m.\u001b[0m\u001b[0m_getitem_multilevel\u001b[0m\u001b[0;34m(\u001b[0m\u001b[0mkey\u001b[0m\u001b[0;34m)\u001b[0m\u001b[0;34m\u001b[0m\u001b[0;34m\u001b[0m\u001b[0m\n\u001b[0;32m-> 4102\u001b[0;31m             \u001b[0mindexer\u001b[0m \u001b[0;34m=\u001b[0m \u001b[0mself\u001b[0m\u001b[0;34m.\u001b[0m\u001b[0mcolumns\u001b[0m\u001b[0;34m.\u001b[0m\u001b[0mget_loc\u001b[0m\u001b[0;34m(\u001b[0m\u001b[0mkey\u001b[0m\u001b[0;34m)\u001b[0m\u001b[0;34m\u001b[0m\u001b[0;34m\u001b[0m\u001b[0m\n\u001b[0m\u001b[1;32m   4103\u001b[0m             \u001b[0;32mif\u001b[0m \u001b[0mis_integer\u001b[0m\u001b[0;34m(\u001b[0m\u001b[0mindexer\u001b[0m\u001b[0;34m)\u001b[0m\u001b[0;34m:\u001b[0m\u001b[0;34m\u001b[0m\u001b[0;34m\u001b[0m\u001b[0m\n\u001b[1;32m   4104\u001b[0m                 \u001b[0mindexer\u001b[0m \u001b[0;34m=\u001b[0m \u001b[0;34m[\u001b[0m\u001b[0mindexer\u001b[0m\u001b[0;34m]\u001b[0m\u001b[0;34m\u001b[0m\u001b[0;34m\u001b[0m\u001b[0m\n",
      "\u001b[0;32m/usr/local/lib/python3.11/dist-packages/pandas/core/indexes/base.py\u001b[0m in \u001b[0;36mget_loc\u001b[0;34m(self, key)\u001b[0m\n\u001b[1;32m   3810\u001b[0m             ):\n\u001b[1;32m   3811\u001b[0m                 \u001b[0;32mraise\u001b[0m \u001b[0mInvalidIndexError\u001b[0m\u001b[0;34m(\u001b[0m\u001b[0mkey\u001b[0m\u001b[0;34m)\u001b[0m\u001b[0;34m\u001b[0m\u001b[0;34m\u001b[0m\u001b[0m\n\u001b[0;32m-> 3812\u001b[0;31m             \u001b[0;32mraise\u001b[0m \u001b[0mKeyError\u001b[0m\u001b[0;34m(\u001b[0m\u001b[0mkey\u001b[0m\u001b[0;34m)\u001b[0m \u001b[0;32mfrom\u001b[0m \u001b[0merr\u001b[0m\u001b[0;34m\u001b[0m\u001b[0;34m\u001b[0m\u001b[0m\n\u001b[0m\u001b[1;32m   3813\u001b[0m         \u001b[0;32mexcept\u001b[0m \u001b[0mTypeError\u001b[0m\u001b[0;34m:\u001b[0m\u001b[0;34m\u001b[0m\u001b[0;34m\u001b[0m\u001b[0m\n\u001b[1;32m   3814\u001b[0m             \u001b[0;31m# If we have a listlike key, _check_indexing_error will raise\u001b[0m\u001b[0;34m\u001b[0m\u001b[0;34m\u001b[0m\u001b[0m\n",
      "\u001b[0;31mKeyError\u001b[0m: 'text'"
     ]
    }
   ],
   "source": [
    "train_input_ids, train_att_masks = encode(train_df['text'].values.tolist())\n",
    "valid_input_ids, valid_att_masks = encode(valid_df['text'].values.tolist())\n",
    "test_input_ids, test_att_masks = encode(test_df['text'].values.tolist())"
   ]
  },
  {
   "cell_type": "code",
   "execution_count": null,
   "metadata": {
    "executionInfo": {
     "elapsed": 1,
     "status": "aborted",
     "timestamp": 1749146016486,
     "user": {
      "displayName": "Laís Carvalho Coutinho",
      "userId": "02390242036631741944"
     },
     "user_tz": 180
    },
    "id": "NQ_95EXXcZFM"
   },
   "outputs": [],
   "source": [
    "train_y = torch.LongTensor(train_label.values)\n",
    "valid_y = torch.LongTensor(valid_label.values)\n",
    "test_y = torch.LongTensor(test_label.values)"
   ]
  },
  {
   "cell_type": "code",
   "execution_count": null,
   "metadata": {
    "executionInfo": {
     "elapsed": 0,
     "status": "aborted",
     "timestamp": 1749146016488,
     "user": {
      "displayName": "Laís Carvalho Coutinho",
      "userId": "02390242036631741944"
     },
     "user_tz": 180
    },
    "id": "QkjZRX-ccih3"
   },
   "outputs": [],
   "source": [
    "N_labels = len(train_label.unique())\n",
    "model = BertForSequenceClassification.from_pretrained(PRETRAINED_LM,\n",
    "                                                      num_labels=N_labels,\n",
    "                                                      output_attentions=False,\n",
    "                                                      output_hidden_states=False)"
   ]
  },
  {
   "cell_type": "code",
   "execution_count": null,
   "metadata": {
    "executionInfo": {
     "elapsed": 6490,
     "status": "aborted",
     "timestamp": 1749146016490,
     "user": {
      "displayName": "Laís Carvalho Coutinho",
      "userId": "02390242036631741944"
     },
     "user_tz": 180
    },
    "id": "lCCFQ3B1CPdc"
   },
   "outputs": [],
   "source": [
    "BATCH_SIZE = 16"
   ]
  },
  {
   "cell_type": "code",
   "execution_count": null,
   "metadata": {
    "executionInfo": {
     "elapsed": 6489,
     "status": "aborted",
     "timestamp": 1749146016491,
     "user": {
      "displayName": "Laís Carvalho Coutinho",
      "userId": "02390242036631741944"
     },
     "user_tz": 180
    },
    "id": "tLVbBeOjccYI"
   },
   "outputs": [],
   "source": [
    "train_dataset = TensorDataset(train_input_ids, train_att_masks, train_y)\n",
    "train_sampler = RandomSampler(train_dataset)\n",
    "train_dataloader = DataLoader(train_dataset, sampler=train_sampler, batch_size=BATCH_SIZE)\n",
    "\n",
    "valid_dataset = TensorDataset(valid_input_ids, valid_att_masks, valid_y)\n",
    "valid_sampler = SequentialSampler(valid_dataset)\n",
    "valid_dataloader = DataLoader(valid_dataset, sampler=valid_sampler, batch_size=BATCH_SIZE)\n",
    "\n",
    "test_dataset = TensorDataset(test_input_ids, test_att_masks, test_y)\n",
    "test_sampler = SequentialSampler(test_dataset)\n",
    "test_dataloader = DataLoader(test_dataset, sampler=test_sampler, batch_size=BATCH_SIZE)"
   ]
  },
  {
   "cell_type": "code",
   "execution_count": null,
   "metadata": {
    "executionInfo": {
     "elapsed": 6487,
     "status": "aborted",
     "timestamp": 1749146016492,
     "user": {
      "displayName": "Laís Carvalho Coutinho",
      "userId": "02390242036631741944"
     },
     "user_tz": 180
    },
    "id": "WdOHFZsvcfqP"
   },
   "outputs": [],
   "source": [
    "train_label.unique()"
   ]
  },
  {
   "cell_type": "code",
   "execution_count": null,
   "metadata": {
    "executionInfo": {
     "elapsed": 6487,
     "status": "aborted",
     "timestamp": 1749146016494,
     "user": {
      "displayName": "Laís Carvalho Coutinho",
      "userId": "02390242036631741944"
     },
     "user_tz": 180
    },
    "id": "RqDyhGFDclar"
   },
   "outputs": [],
   "source": [
    "device = torch.device(\"cuda\" if torch.cuda.is_available() else \"cpu\")\n",
    "device"
   ]
  },
  {
   "cell_type": "code",
   "execution_count": null,
   "metadata": {
    "executionInfo": {
     "elapsed": 6487,
     "status": "aborted",
     "timestamp": 1749146016496,
     "user": {
      "displayName": "Laís Carvalho Coutinho",
      "userId": "02390242036631741944"
     },
     "user_tz": 180
    },
    "id": "EC7jWniPcmW1"
   },
   "outputs": [],
   "source": [
    "model = model.to(device)"
   ]
  },
  {
   "cell_type": "code",
   "execution_count": null,
   "metadata": {
    "executionInfo": {
     "elapsed": 6486,
     "status": "aborted",
     "timestamp": 1749146016498,
     "user": {
      "displayName": "Laís Carvalho Coutinho",
      "userId": "02390242036631741944"
     },
     "user_tz": 180
    },
    "id": "_ubCJJBQcq2a"
   },
   "outputs": [],
   "source": [
    "# Best results: 07 and 08\n",
    "EPOCHS = 10\n",
    "LEARNING_RATE = 2e-6\n",
    "\n",
    "optimizer = AdamW(model.parameters(), lr=LEARNING_RATE)\n",
    "scheduler = get_linear_schedule_with_warmup(optimizer,\n",
    "             num_warmup_steps=0,\n",
    "            num_training_steps=len(train_dataloader)*EPOCHS )"
   ]
  },
  {
   "cell_type": "markdown",
   "metadata": {
    "id": "m94lfbg-C4f0"
   },
   "source": [
    "## Treinamento do modelo"
   ]
  },
  {
   "cell_type": "code",
   "execution_count": null,
   "metadata": {
    "executionInfo": {
     "elapsed": 6485,
     "status": "aborted",
     "timestamp": 1749146016499,
     "user": {
      "displayName": "Laís Carvalho Coutinho",
      "userId": "02390242036631741944"
     },
     "user_tz": 180
    },
    "id": "-sk8ABQscwKO"
   },
   "outputs": [],
   "source": [
    "train_loss_per_epoch = []\n",
    "val_loss_per_epoch = []\n",
    "\n",
    "for epoch_num in range(EPOCHS):\n",
    "    print('Epoch: ', epoch_num + 1)\n",
    "    '''\n",
    "    Training\n",
    "    '''\n",
    "    model.train()\n",
    "    train_loss = 0\n",
    "    for step_num, batch_data in enumerate(tqdm(train_dataloader,desc='Training')):\n",
    "        input_ids, att_mask, labels = [data.to(device) for data in batch_data]\n",
    "        output = model(input_ids = input_ids, attention_mask=att_mask, labels= labels)\n",
    "\n",
    "        loss = output.loss\n",
    "        train_loss += loss.item()\n",
    "\n",
    "        model.zero_grad()\n",
    "        loss.backward()\n",
    "        del loss\n",
    "\n",
    "        clip_grad_norm_(parameters=model.parameters(), max_norm=1.0)\n",
    "        optimizer.step()\n",
    "        scheduler.step()\n",
    "\n",
    "    train_loss_per_epoch.append(train_loss / (step_num + 1))\n",
    "\n",
    "\n",
    "    '''\n",
    "    Validation\n",
    "    '''\n",
    "    model.eval()\n",
    "    valid_loss = 0\n",
    "    valid_pred = []\n",
    "    with torch.no_grad():\n",
    "        for step_num_e, batch_data in enumerate(tqdm(valid_dataloader,desc='Validation')):\n",
    "            input_ids, att_mask, labels = [data.to(device) for data in batch_data]\n",
    "            output = model(input_ids = input_ids, attention_mask=att_mask, labels= labels)\n",
    "\n",
    "            loss = output.loss\n",
    "            valid_loss += loss.item()\n",
    "\n",
    "            valid_pred.append(np.argmax(output.logits.cpu().detach().numpy(),axis=-1))\n",
    "\n",
    "    val_loss_per_epoch.append(valid_loss / (step_num_e + 1))\n",
    "    valid_pred = np.concatenate(valid_pred)\n",
    "\n",
    "    '''\n",
    "    Loss message\n",
    "    '''\n",
    "    print(\"{0}/{1} train loss: {2} \".format(step_num+1, math.ceil(len(train_df) / BATCH_SIZE), train_loss / (step_num + 1)))\n",
    "    print(\"{0}/{1} val loss: {2} \".format(step_num_e+1, math.ceil(len(valid_df) / BATCH_SIZE), valid_loss / (step_num_e + 1)))"
   ]
  },
  {
   "cell_type": "code",
   "execution_count": null,
   "metadata": {
    "executionInfo": {
     "elapsed": 6485,
     "status": "aborted",
     "timestamp": 1749146016501,
     "user": {
      "displayName": "Laís Carvalho Coutinho",
      "userId": "02390242036631741944"
     },
     "user_tz": 180
    },
    "id": "cz7WO3Fgc0Qj"
   },
   "outputs": [],
   "source": [
    "epochs = range(1, EPOCHS +1 )\n",
    "fig, ax = plt.subplots()\n",
    "ax.plot(epochs,train_loss_per_epoch,label ='training loss')\n",
    "ax.plot(epochs, val_loss_per_epoch, label = 'validation loss' )\n",
    "ax.set_title('Training and Validation loss')\n",
    "ax.set_xlabel('Epochs')\n",
    "ax.set_ylabel('Loss')\n",
    "ax.legend()\n",
    "plt.show()"
   ]
  },
  {
   "cell_type": "markdown",
   "metadata": {
    "id": "R1vHwgXPC-Fi"
   },
   "source": [
    "## Avaliação do Modelo"
   ]
  },
  {
   "cell_type": "code",
   "execution_count": null,
   "metadata": {
    "executionInfo": {
     "elapsed": 6505,
     "status": "aborted",
     "timestamp": 1749146016524,
     "user": {
      "displayName": "Laís Carvalho Coutinho",
      "userId": "02390242036631741944"
     },
     "user_tz": 180
    },
    "id": "W1I8IBJUUcKs"
   },
   "outputs": [],
   "source": [
    "model.eval()\n",
    "test_pred = []\n",
    "test_loss= 0\n",
    "\n",
    "with torch.no_grad():\n",
    "    for step_num, batch_data in tqdm(enumerate(test_dataloader)):\n",
    "        input_ids, att_mask, labels = [data.to(device) for data in batch_data]\n",
    "        output = model(input_ids = input_ids, attention_mask=att_mask, labels= labels)\n",
    "\n",
    "        loss = output.loss\n",
    "        test_loss += loss.item()\n",
    "\n",
    "        test_pred.append(np.argmax(output.logits.cpu().detach().numpy(),axis=-1))\n",
    "test_pred = np.concatenate(test_pred)"
   ]
  },
  {
   "cell_type": "code",
   "execution_count": null,
   "metadata": {
    "executionInfo": {
     "elapsed": 6505,
     "status": "aborted",
     "timestamp": 1749146016526,
     "user": {
      "displayName": "Laís Carvalho Coutinho",
      "userId": "02390242036631741944"
     },
     "user_tz": 180
    },
    "id": "O947EGtec5-X"
   },
   "outputs": [],
   "source": [
    "print('classification report')\n",
    "\n",
    "print(classification_report(test_pred, test_label,target_names=label_names))"
   ]
  },
  {
   "cell_type": "code",
   "execution_count": null,
   "metadata": {
    "executionInfo": {
     "elapsed": 6505,
     "status": "aborted",
     "timestamp": 1749146016529,
     "user": {
      "displayName": "Laís Carvalho Coutinho",
      "userId": "02390242036631741944"
     },
     "user_tz": 180
    },
    "id": "Hk_D_bFsDh-f"
   },
   "outputs": [],
   "source": [
    "model.eval()\n",
    "probabilities = []\n",
    "\n",
    "with torch.no_grad():\n",
    "  for step_num, batch_data in tqdm(enumerate(test_dataloader)):\n",
    "      input_ids, att_mask, labels = [data.to(device) for data in batch_data]\n",
    "      output = model(input_ids = input_ids, attention_mask=att_mask, labels= labels)\n",
    "\n",
    "      prob = expit(output.logits.cpu().detach().numpy())\n",
    "\n",
    "      probabilities.append( prob )\n",
    "\n",
    "probabilities = np.concatenate(probabilities)"
   ]
  },
  {
   "cell_type": "code",
   "execution_count": null,
   "metadata": {
    "executionInfo": {
     "elapsed": 6504,
     "status": "aborted",
     "timestamp": 1749146016530,
     "user": {
      "displayName": "Laís Carvalho Coutinho",
      "userId": "02390242036631741944"
     },
     "user_tz": 180
    },
    "id": "D1poHrRfDjX2"
   },
   "outputs": [],
   "source": [
    "probabilities"
   ]
  },
  {
   "cell_type": "code",
   "execution_count": null,
   "metadata": {
    "executionInfo": {
     "elapsed": 6503,
     "status": "aborted",
     "timestamp": 1749146016531,
     "user": {
      "displayName": "Laís Carvalho Coutinho",
      "userId": "02390242036631741944"
     },
     "user_tz": 180
    },
    "id": "DbNeI3snWRPC"
   },
   "outputs": [],
   "source": [
    "print(type(test_label))\n",
    "print(type(test_pred))"
   ]
  },
  {
   "cell_type": "code",
   "execution_count": null,
   "metadata": {
    "executionInfo": {
     "elapsed": 6502,
     "status": "aborted",
     "timestamp": 1749146016533,
     "user": {
      "displayName": "Laís Carvalho Coutinho",
      "userId": "02390242036631741944"
     },
     "user_tz": 180
    },
    "id": "FPjKFuMufRSX"
   },
   "outputs": [],
   "source": [
    "def plot_roc_curve(fper, tper, AUC):\n",
    "    plt.plot(fper, tper, color=\"red\", label=f\"AUC = {AUC}\")\n",
    "    plt.plot([0, 1], [0, 1], color=\"green\", linestyle=\"--\")\n",
    "    plt.xlabel(\"False Positive Rate\")\n",
    "    plt.ylabel(\"True Positive Rate\")\n",
    "    plt.title(\"Receiver Operating Characteristic Curve\")\n",
    "    plt.legend()\n",
    "    plt.show()\n",
    "\n",
    "\n",
    "fper, tper, thresholds = roc_curve(test_label, test_pred)\n",
    "AUC = auc(fper, tper)\n",
    "plot_roc_curve(fper, tper, AUC)"
   ]
  },
  {
   "cell_type": "code",
   "execution_count": null,
   "metadata": {
    "executionInfo": {
     "elapsed": 6501,
     "status": "aborted",
     "timestamp": 1749146016534,
     "user": {
      "displayName": "Laís Carvalho Coutinho",
      "userId": "02390242036631741944"
     },
     "user_tz": 180
    },
    "id": "q_GaMDGRVzgI"
   },
   "outputs": [],
   "source": [
    "fper, tper, thresholds = roc_curve(test_label, probabilities[::,1])\n",
    "AUC = auc(fper, tper)\n",
    "plot_roc_curve(fper, tper, AUC)"
   ]
  },
  {
   "cell_type": "code",
   "execution_count": null,
   "metadata": {
    "executionInfo": {
     "elapsed": 6500,
     "status": "aborted",
     "timestamp": 1749146016535,
     "user": {
      "displayName": "Laís Carvalho Coutinho",
      "userId": "02390242036631741944"
     },
     "user_tz": 180
    },
    "id": "LSo3E2PHc-Xz"
   },
   "outputs": [],
   "source": [
    "def plot_confusion_matrix(y_preds, y_true, labels=None):\n",
    "  cm = confusion_matrix(y_true, y_preds, normalize=\"true\")\n",
    "  fig, ax = plt.subplots(figsize=(6, 6))\n",
    "  disp = ConfusionMatrixDisplay(confusion_matrix=cm, display_labels=labels)\n",
    "  disp.plot(cmap=\"Blues\", values_format=\".2f\", ax=ax, colorbar=False)\n",
    "  plt.title(\"Normalized confusion matrix\")\n",
    "  plt.show()"
   ]
  },
  {
   "cell_type": "code",
   "execution_count": null,
   "metadata": {
    "executionInfo": {
     "elapsed": 6498,
     "status": "aborted",
     "timestamp": 1749146016536,
     "user": {
      "displayName": "Laís Carvalho Coutinho",
      "userId": "02390242036631741944"
     },
     "user_tz": 180
    },
    "id": "soyXf9p9dDzC"
   },
   "outputs": [],
   "source": [
    "plot_confusion_matrix(test_pred, test_label)"
   ]
  },
  {
   "cell_type": "code",
   "execution_count": null,
   "metadata": {
    "executionInfo": {
     "elapsed": 6497,
     "status": "aborted",
     "timestamp": 1749146016537,
     "user": {
      "displayName": "Laís Carvalho Coutinho",
      "userId": "02390242036631741944"
     },
     "user_tz": 180
    },
    "id": "BWhzB8-nvVJL"
   },
   "outputs": [],
   "source": [
    "print(test_df.columns)"
   ]
  },
  {
   "cell_type": "code",
   "execution_count": null,
   "metadata": {
    "executionInfo": {
     "elapsed": 6496,
     "status": "aborted",
     "timestamp": 1749146016538,
     "user": {
      "displayName": "Laís Carvalho Coutinho",
      "userId": "02390242036631741944"
     },
     "user_tz": 180
    },
    "id": "rQgwH_WLVtzI"
   },
   "outputs": [],
   "source": [
    "d = {'pred', 'label', 'prob'}\n",
    "test_df = pd.DataFrame()\n",
    "\n",
    "test_df['pred'] = test_pred\n",
    "test_df['label'] = test_label\n",
    "test_df['prob'] = probabilities[::,1]\n",
    "\n",
    "test_df"
   ]
  },
  {
   "cell_type": "markdown",
   "metadata": {
    "id": "FWwzgyK53JxQ"
   },
   "source": [
    "## **Saving results**"
   ]
  },
  {
   "cell_type": "code",
   "execution_count": null,
   "metadata": {
    "executionInfo": {
     "elapsed": 6494,
     "status": "aborted",
     "timestamp": 1749146016539,
     "user": {
      "displayName": "Laís Carvalho Coutinho",
      "userId": "02390242036631741944"
     },
     "user_tz": 180
    },
    "id": "IUe1AmYDCWQp"
   },
   "outputs": [],
   "source": [
    "import shutil\n",
    "import os"
   ]
  },
  {
   "cell_type": "code",
   "execution_count": null,
   "metadata": {
    "executionInfo": {
     "elapsed": 6493,
     "status": "aborted",
     "timestamp": 1749146016540,
     "user": {
      "displayName": "Laís Carvalho Coutinho",
      "userId": "02390242036631741944"
     },
     "user_tz": 180
    },
    "id": "xQ10FmMiyMhf"
   },
   "outputs": [],
   "source": [
    "original_df = pd.read_csv(test_file_path)\n",
    "\n",
    "original_df['pred'] = test_pred\n",
    "original_df['prob'] = probabilities[::,1]\n",
    "\n",
    "os.makedirs(\"./Multilingual\", exist_ok=True)\n",
    "output_file_path = './Multilingual/test_predictions-BERTMultilingual61.csv'\n",
    "original_df.to_csv(output_file_path, index=False)\n",
    "\n",
    "print(f'Arquivo com previsões e probabilidades salvo em: {output_file_path}')"
   ]
  },
  {
   "cell_type": "code",
   "execution_count": null,
   "metadata": {
    "executionInfo": {
     "elapsed": 6492,
     "status": "aborted",
     "timestamp": 1749146016541,
     "user": {
      "displayName": "Laís Carvalho Coutinho",
      "userId": "02390242036631741944"
     },
     "user_tz": 180
    },
    "id": "7LfZaaQHAPMe"
   },
   "outputs": [],
   "source": [
    "MODEL_PATH = \"/content/test_results_BERTMultilingual.bin\"\n",
    "torch.save(model.state_dict(), MODEL_PATH)"
   ]
  }
 ],
 "metadata": {
  "accelerator": "GPU",
  "colab": {
   "gpuType": "T4",
   "provenance": [
    {
     "file_id": "1bUMNOsC-6jY0QqdHQTZc0wDYfTW_uMmc",
     "timestamp": 1739760328922
    },
    {
     "file_id": "1JEc32K56WCOPdk_qKNCTiUMVz4jCtNdc",
     "timestamp": 1739759193076
    },
    {
     "file_id": "1BFNPmAZEyduSrvcm18QMruVgJ6ctZHc5",
     "timestamp": 1739757908062
    },
    {
     "file_id": "1J1PsGOgsbCQv65Np-pstutL44a-S761n",
     "timestamp": 1739151003123
    },
    {
     "file_id": "14Aa2F5ZTQUpyQUVO2mmvijYI7tJgoYHz",
     "timestamp": 1738543291050
    },
    {
     "file_id": "1WFbEcZJMVNbUsF1QR6rFPeIyd63NWRjR",
     "timestamp": 1714483437034
    },
    {
     "file_id": "1nBdVcF6tZOyNNdOmSr3_HMFesAH6Alsq",
     "timestamp": 1714436257888
    },
    {
     "file_id": "1KCQmcXnqz0Vi9HhCVVL96JdN4GFO9XqK",
     "timestamp": 1710809505598
    }
   ]
  },
  "kernelspec": {
   "display_name": "Python 3",
   "name": "python3"
  },
  "language_info": {
   "name": "python"
  }
 },
 "nbformat": 4,
 "nbformat_minor": 0
}
